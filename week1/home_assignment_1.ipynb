{
 "cells": [
  {
   "cell_type": "markdown",
   "metadata": {
    "collapsed": true
   },
   "source": [
    "# <center> Рекомендательные системы </center>\n",
    "\n",
    "## <center> Домашнее задание 1 </center>\n",
    "\n",
    "## Автор материала: доцент ФКН НИУ ВШЭ Дмитрий Игнатов\n",
    "Можно использовать материал в любых целях, кроме коммерческих. Примеры составлены по мотивам главы 2 книги Т.Сегаран \"Программируем коллективный разум\" http://www.symbol.ru/alphabet/613828.html\n",
    "\n",
    "### Срок выполнения: 19 ноября 2020 23:00\n",
    "\n",
    "\n"
   ]
  },
  {
   "cell_type": "code",
   "execution_count": 1,
   "metadata": {},
   "outputs": [],
   "source": [
    "import pickle\n",
    "from math import sqrt\n",
    "from tqdm import tqdm"
   ]
  },
  {
   "cell_type": "markdown",
   "metadata": {},
   "source": [
    "## Словарь с предпочтениями {кинокритик: {фильм : оценка}}"
   ]
  },
  {
   "cell_type": "code",
   "execution_count": 2,
   "metadata": {
    "scrolled": true
   },
   "outputs": [
    {
     "data": {
      "text/plain": [
       "{'Lisa Rose': {'Lady in the Water': 2.5,\n",
       "  'Snakes on a Plane': 3.5,\n",
       "  'Just My Luck': 3.0,\n",
       "  'Superman Returns': 3.5,\n",
       "  'You, Me and Dupree': 2.5,\n",
       "  'The Night Listener': 3.0},\n",
       " 'Gene Seymour': {'Lady in the Water': 3.0,\n",
       "  'Snakes on a Plane': 3.5,\n",
       "  'Just My Luck': 1.5,\n",
       "  'Superman Returns': 5.0,\n",
       "  'The Night Listener': 3.0,\n",
       "  'You, Me and Dupree': 3.5},\n",
       " 'Michael Phillips': {'Lady in the Water': 2.5,\n",
       "  'Snakes on a Plane': 3.0,\n",
       "  'Superman Returns': 3.5,\n",
       "  'The Night Listener': 4.0},\n",
       " 'Claudia Puig': {'Snakes on a Plane': 3.5,\n",
       "  'Just My Luck': 3.0,\n",
       "  'The Night Listener': 4.5,\n",
       "  'Superman Returns': 4.0,\n",
       "  'You, Me and Dupree': 2.5},\n",
       " 'Mick LaSalle': {'Lady in the Water': 3.0,\n",
       "  'Snakes on a Plane': 4.0,\n",
       "  'Just My Luck': 2.0,\n",
       "  'Superman Returns': 3.0,\n",
       "  'The Night Listener': 3.0,\n",
       "  'You, Me and Dupree': 2.0},\n",
       " 'Jack Matthews': {'Lady in the Water': 3.0,\n",
       "  'Snakes on a Plane': 4.0,\n",
       "  'The Night Listener': 3.0,\n",
       "  'Superman Returns': 5.0,\n",
       "  'You, Me and Dupree': 3.5},\n",
       " 'Toby': {'Snakes on a Plane': 4.5,\n",
       "  'You, Me and Dupree': 1.0,\n",
       "  'Superman Returns': 4.0}}"
      ]
     },
     "metadata": {},
     "output_type": "display_data"
    }
   ],
   "source": [
    "with open('data/critics_reviews', 'rb') as f:\n",
    "    critics = pickle.load(f)\n",
    "\n",
    "display(critics)"
   ]
  },
  {
   "cell_type": "code",
   "execution_count": 3,
   "metadata": {},
   "outputs": [
    {
     "data": {
      "text/plain": [
       "3.1622776601683795"
      ]
     },
     "execution_count": 3,
     "metadata": {},
     "output_type": "execute_result"
    }
   ],
   "source": [
    "# Вычисление расстояния Евклида\n",
    "sqrt(pow(5 - 4, 2) + pow(4 - 1, 2))"
   ]
  },
  {
   "cell_type": "code",
   "execution_count": 4,
   "metadata": {},
   "outputs": [
    {
     "data": {
      "text/plain": [
       "0.2402530733520421"
      ]
     },
     "execution_count": 4,
     "metadata": {},
     "output_type": "execute_result"
    }
   ],
   "source": [
    "# Вычисление сходства\n",
    "1/(1 + sqrt(pow(5 - 4, 2) + pow(4 - 1, 2)))"
   ]
  },
  {
   "cell_type": "code",
   "execution_count": 5,
   "metadata": {},
   "outputs": [],
   "source": [
    "def sim_distance(prefs, person1, person2):\n",
    "    '''\n",
    "    Возвращает сходство критиков на основе расстояния.\n",
    "    '''\n",
    "    # Получить список предметов, оцененных обоими\n",
    "    similar = {}\n",
    "    for item in prefs[person1]:\n",
    "        if item in prefs[person2]:\n",
    "            similar[item] = 1\n",
    "    # Если нет ни одной общей оценки, вернуть 0\n",
    "    if len(similar) == 0:\n",
    "        return 0\n",
    "    # Сложить квадраты разностей\n",
    "    sum_of_squares = sum([(prefs[person1][item] - prefs[person2][item])**2\n",
    "                         for item in prefs[person1] if item in prefs[person2]])\n",
    "    return 1/(1 + sum_of_squares)"
   ]
  },
  {
   "cell_type": "code",
   "execution_count": 6,
   "metadata": {},
   "outputs": [
    {
     "data": {
      "text/plain": [
       "0.14814814814814814"
      ]
     },
     "execution_count": 6,
     "metadata": {},
     "output_type": "execute_result"
    }
   ],
   "source": [
    "sim_distance(critics, 'Lisa Rose','Gene Seymour')"
   ]
  },
  {
   "cell_type": "code",
   "execution_count": 7,
   "metadata": {},
   "outputs": [],
   "source": [
    "def sim_pearson(prefs, person1, person2):\n",
    "    '''\n",
    "    Возвращает коэффициент корреляции Пирсона между двумя критиками.\n",
    "    '''\n",
    "    # Получить список предметов, оцененных обоими\n",
    "    similar = {}\n",
    "    for item in prefs[person1]:\n",
    "        if item in prefs[person2]:\n",
    "            similar[item] = 1\n",
    "    # Если нет ни одной общей оценки, вернуть 0\n",
    "    if len(similar) == 0:\n",
    "        return 0\n",
    "    # Количество соместно оцененных фильм\n",
    "    n = len(similar)\n",
    "    # Вычислить сумму всех предпочтений\n",
    "    sum1 = sum([prefs[person1][i] for i in similar])\n",
    "    sum2 = sum([prefs[person2][i] for i in similar])\n",
    "    # Вычислить сумму квадратов\n",
    "    sum1_sqrt = sum([prefs[person1][i]**2 for i in similar])\n",
    "    sum2_sqrt = sum([prefs[person2][i]**2 for i in similar])\n",
    "    # Вычислить сумму произведений\n",
    "    sum_product = sum([prefs[person1][i]*prefs[person2][i] for i in similar])\n",
    "    # Вычислить коэффициент Пирсона\n",
    "    num = sum_product - (sum1*sum2/n)\n",
    "    den = sqrt((sum1_sqrt - sum1**2/n)*(sum2_sqrt-sum2**2/n))\n",
    "    if den == 0:\n",
    "        return 0\n",
    "    r_coeff = num/den\n",
    "    return r_coeff"
   ]
  },
  {
   "cell_type": "code",
   "execution_count": 8,
   "metadata": {},
   "outputs": [
    {
     "data": {
      "text/plain": [
       "0.39605901719066977"
      ]
     },
     "execution_count": 8,
     "metadata": {},
     "output_type": "execute_result"
    }
   ],
   "source": [
    "sim_pearson(critics,'Lisa Rose','Gene Seymour')"
   ]
  },
  {
   "cell_type": "markdown",
   "metadata": {},
   "source": [
    "## Ранжирование критиков"
   ]
  },
  {
   "cell_type": "code",
   "execution_count": 9,
   "metadata": {},
   "outputs": [],
   "source": [
    "def topMatches(prefs, person, n=5, similarity=sim_pearson):\n",
    "    '''\n",
    "    Возвращает список наилучших соответствий для человека из словаря prefs.\n",
    "    Длина списка и функция сходства – необязательные параметры.\n",
    "    '''\n",
    "    scores = [(similarity(prefs, person, other), other) for other in prefs if other != person]\n",
    "    # Предпочтения по убыванию оценок\n",
    "    scores.sort(reverse=True)\n",
    "    return scores[:n]"
   ]
  },
  {
   "cell_type": "code",
   "execution_count": 10,
   "metadata": {},
   "outputs": [
    {
     "data": {
      "text/plain": [
       "[(0.9912407071619299, 'Lisa Rose'),\n",
       " (0.9244734516419049, 'Mick LaSalle'),\n",
       " (0.8934051474415647, 'Claudia Puig')]"
      ]
     },
     "execution_count": 10,
     "metadata": {},
     "output_type": "execute_result"
    }
   ],
   "source": [
    "topMatches(critics, 'Toby', n=3)"
   ]
  },
  {
   "cell_type": "markdown",
   "metadata": {},
   "source": [
    "## Рекомендация фильмов (User-based подход)"
   ]
  },
  {
   "cell_type": "code",
   "execution_count": 11,
   "metadata": {},
   "outputs": [],
   "source": [
    "def getRecommendations(prefs, person, similarity=sim_pearson):\n",
    "    '''\n",
    "    Получить рекомендации для заданного человека, пользуясь взвешенным средним\n",
    "    оценок от всех остальных пользователей.\n",
    "    '''\n",
    "    totals = {}\n",
    "    sim_sums = {}\n",
    "    for other in prefs:\n",
    "        # Сравнивать меня с собой же не нужно\n",
    "        if other == person:\n",
    "            continue\n",
    "        sim = similarity(prefs, person, other)\n",
    "        # Будем игнорировать нулевую и отрицательную схожесть\n",
    "        if sim <= 0:\n",
    "            continue\n",
    "        for item in prefs[other]:\n",
    "            # Оценивать только фильмы, которые человек еще не смотрел\n",
    "            if item not in prefs[person] or prefs[person][item] == 0:\n",
    "                # Коэффициент схожести * Оценка\n",
    "                totals.setdefault(item, 0)\n",
    "                totals[item] += prefs[other][item]*sim\n",
    "                # Сумма коэффициентов схожести\n",
    "                sim_sums.setdefault(item, 0)\n",
    "                sim_sums[item] += sim\n",
    "    # Создать нормированный список\n",
    "    rankings = [(total/sim_sums[item], item) for item, total in totals.items()]\n",
    "    # Вернуть отсортированный список\n",
    "    rankings.sort(reverse=True)\n",
    "    return rankings"
   ]
  },
  {
   "cell_type": "code",
   "execution_count": 12,
   "metadata": {},
   "outputs": [
    {
     "data": {
      "text/plain": [
       "[(3.3477895267131017, 'The Night Listener'),\n",
       " (2.8325499182641614, 'Lady in the Water'),\n",
       " (2.530980703765565, 'Just My Luck')]"
      ]
     },
     "execution_count": 12,
     "metadata": {},
     "output_type": "execute_result"
    }
   ],
   "source": [
    "getRecommendations(critics, 'Toby')"
   ]
  },
  {
   "cell_type": "code",
   "execution_count": 13,
   "metadata": {},
   "outputs": [
    {
     "data": {
      "text/plain": [
       "[(3.5002478401415877, 'The Night Listener'),\n",
       " (2.7561242939959363, 'Lady in the Water'),\n",
       " (2.461988486074374, 'Just My Luck')]"
      ]
     },
     "execution_count": 13,
     "metadata": {},
     "output_type": "execute_result"
    }
   ],
   "source": [
    "getRecommendations(critics, 'Toby', sim_distance)"
   ]
  },
  {
   "cell_type": "markdown",
   "metadata": {},
   "source": [
    "## Сходство предметов\n",
    "\n",
    "Хотим заменить\n",
    "\n",
    "{'Lisa Rose': {'Lady in the Water': 2.5, 'Snakes on a Plane': 3.5},\n",
    "'Gene Seymour': {'Lady in the Water': 3.0, 'Snakes on a Plane': 3.5}}\n",
    "\n",
    "на\n",
    "\n",
    "{'Lady in the Water':{'Lisa Rose':2.5,'Gene Seymour':3.0},\n",
    "'Snakes on a Plane':{'Lisa Rose':3.5,'Gene Seymour':3.5}}?\n"
   ]
  },
  {
   "cell_type": "code",
   "execution_count": 14,
   "metadata": {},
   "outputs": [],
   "source": [
    "def transformPrefs(prefs):\n",
    "    result = {}\n",
    "    for person in prefs:\n",
    "        for item in prefs[person]:\n",
    "            result.setdefault(item, {})\n",
    "            # Обменять местами человека и предмет\n",
    "            result[item][person] = prefs[person][item]\n",
    "    return result"
   ]
  },
  {
   "cell_type": "code",
   "execution_count": 15,
   "metadata": {},
   "outputs": [
    {
     "data": {
      "text/plain": [
       "{'Lady in the Water': {'Lisa Rose': 2.5,\n",
       "  'Gene Seymour': 3.0,\n",
       "  'Michael Phillips': 2.5,\n",
       "  'Mick LaSalle': 3.0,\n",
       "  'Jack Matthews': 3.0},\n",
       " 'Snakes on a Plane': {'Lisa Rose': 3.5,\n",
       "  'Gene Seymour': 3.5,\n",
       "  'Michael Phillips': 3.0,\n",
       "  'Claudia Puig': 3.5,\n",
       "  'Mick LaSalle': 4.0,\n",
       "  'Jack Matthews': 4.0,\n",
       "  'Toby': 4.5},\n",
       " 'Just My Luck': {'Lisa Rose': 3.0,\n",
       "  'Gene Seymour': 1.5,\n",
       "  'Claudia Puig': 3.0,\n",
       "  'Mick LaSalle': 2.0},\n",
       " 'Superman Returns': {'Lisa Rose': 3.5,\n",
       "  'Gene Seymour': 5.0,\n",
       "  'Michael Phillips': 3.5,\n",
       "  'Claudia Puig': 4.0,\n",
       "  'Mick LaSalle': 3.0,\n",
       "  'Jack Matthews': 5.0,\n",
       "  'Toby': 4.0},\n",
       " 'You, Me and Dupree': {'Lisa Rose': 2.5,\n",
       "  'Gene Seymour': 3.5,\n",
       "  'Claudia Puig': 2.5,\n",
       "  'Mick LaSalle': 2.0,\n",
       "  'Jack Matthews': 3.5,\n",
       "  'Toby': 1.0},\n",
       " 'The Night Listener': {'Lisa Rose': 3.0,\n",
       "  'Gene Seymour': 3.0,\n",
       "  'Michael Phillips': 4.0,\n",
       "  'Claudia Puig': 4.5,\n",
       "  'Mick LaSalle': 3.0,\n",
       "  'Jack Matthews': 3.0}}"
      ]
     },
     "execution_count": 15,
     "metadata": {},
     "output_type": "execute_result"
    }
   ],
   "source": [
    "movies = transformPrefs(critics)\n",
    "movies"
   ]
  },
  {
   "cell_type": "code",
   "execution_count": 16,
   "metadata": {},
   "outputs": [
    {
     "data": {
      "text/plain": [
       "[(0.6579516949597695, 'You, Me and Dupree'),\n",
       " (0.4879500364742689, 'Lady in the Water'),\n",
       " (0.11180339887498941, 'Snakes on a Plane'),\n",
       " (-0.1798471947990544, 'The Night Listener'),\n",
       " (-0.42289003161103106, 'Just My Luck')]"
      ]
     },
     "execution_count": 16,
     "metadata": {},
     "output_type": "execute_result"
    }
   ],
   "source": [
    "topMatches(movies,'Superman Returns')"
   ]
  },
  {
   "cell_type": "code",
   "execution_count": 17,
   "metadata": {},
   "outputs": [
    {
     "data": {
      "text/plain": [
       "[(4.0, 'Michael Phillips'), (3.0, 'Jack Matthews')]"
      ]
     },
     "execution_count": 17,
     "metadata": {},
     "output_type": "execute_result"
    }
   ],
   "source": [
    "getRecommendations(movies,'Just My Luck')"
   ]
  },
  {
   "cell_type": "markdown",
   "metadata": {},
   "source": [
    "## Коллаборативная фильтрация по сходству объектов (Item-based collaborative filtering)"
   ]
  },
  {
   "cell_type": "code",
   "execution_count": 18,
   "metadata": {},
   "outputs": [],
   "source": [
    "def calculateSimilarItems(prefs, n=10):\n",
    "    '''\n",
    "    Создать словарь, содержащий для каждого объекта наиболее похожие на него n объеков.\n",
    "    '''\n",
    "    result = {}\n",
    "    # Обратить матрицу предпочтений, чтобы строки соответствовали фильмам\n",
    "    itemPrefs = transformPrefs(prefs)\n",
    "    counter = 0\n",
    "    # Добавим progress bar для больших датасетов\n",
    "    for item in tqdm(itemPrefs):\n",
    "        # Найти объекты, максимально похожие на данный\n",
    "        scores = topMatches(itemPrefs, item, n=n, similarity=sim_distance)\n",
    "        result[item] = scores\n",
    "    return result"
   ]
  },
  {
   "cell_type": "code",
   "execution_count": 19,
   "metadata": {},
   "outputs": [
    {
     "data": {
      "text/plain": [
       "6"
      ]
     },
     "execution_count": 19,
     "metadata": {},
     "output_type": "execute_result"
    }
   ],
   "source": [
    "len(movies.keys())"
   ]
  },
  {
   "cell_type": "markdown",
   "metadata": {},
   "source": [
    "У нас всего 6 фильмов, посчитаем скоры похожести для всех пар:"
   ]
  },
  {
   "cell_type": "code",
   "execution_count": 20,
   "metadata": {},
   "outputs": [
    {
     "name": "stderr",
     "output_type": "stream",
     "text": [
      "100%|██████████| 6/6 [00:00<00:00, 14665.40it/s]\n"
     ]
    },
    {
     "data": {
      "text/plain": [
       "{'Lady in the Water': [(0.4, 'You, Me and Dupree'),\n",
       "  (0.2857142857142857, 'The Night Listener'),\n",
       "  (0.2222222222222222, 'Snakes on a Plane'),\n",
       "  (0.2222222222222222, 'Just My Luck'),\n",
       "  (0.09090909090909091, 'Superman Returns')],\n",
       " 'Snakes on a Plane': [(0.2222222222222222, 'Lady in the Water'),\n",
       "  (0.18181818181818182, 'The Night Listener'),\n",
       "  (0.16666666666666666, 'Superman Returns'),\n",
       "  (0.10526315789473684, 'Just My Luck'),\n",
       "  (0.05128205128205128, 'You, Me and Dupree')],\n",
       " 'Just My Luck': [(0.2222222222222222, 'Lady in the Water'),\n",
       "  (0.18181818181818182, 'You, Me and Dupree'),\n",
       "  (0.15384615384615385, 'The Night Listener'),\n",
       "  (0.10526315789473684, 'Snakes on a Plane'),\n",
       "  (0.06451612903225806, 'Superman Returns')],\n",
       " 'Superman Returns': [(0.16666666666666666, 'Snakes on a Plane'),\n",
       "  (0.10256410256410256, 'The Night Listener'),\n",
       "  (0.09090909090909091, 'Lady in the Water'),\n",
       "  (0.06451612903225806, 'Just My Luck'),\n",
       "  (0.05333333333333334, 'You, Me and Dupree')],\n",
       " 'You, Me and Dupree': [(0.4, 'Lady in the Water'),\n",
       "  (0.18181818181818182, 'Just My Luck'),\n",
       "  (0.14814814814814814, 'The Night Listener'),\n",
       "  (0.05333333333333334, 'Superman Returns'),\n",
       "  (0.05128205128205128, 'Snakes on a Plane')],\n",
       " 'The Night Listener': [(0.2857142857142857, 'Lady in the Water'),\n",
       "  (0.18181818181818182, 'Snakes on a Plane'),\n",
       "  (0.15384615384615385, 'Just My Luck'),\n",
       "  (0.14814814814814814, 'You, Me and Dupree'),\n",
       "  (0.10256410256410256, 'Superman Returns')]}"
      ]
     },
     "execution_count": 20,
     "metadata": {},
     "output_type": "execute_result"
    }
   ],
   "source": [
    "itemsim = calculateSimilarItems(critics, n=5)\n",
    "itemsim"
   ]
  },
  {
   "cell_type": "code",
   "execution_count": 21,
   "metadata": {},
   "outputs": [],
   "source": [
    "def getRecommendedItems(prefs, itemMatch, user):\n",
    "    userRatings = prefs[user]\n",
    "    scores = {}\n",
    "    totalSim = {}\n",
    "\n",
    "    # Цикл по образцам, оцененным данным пользователем\n",
    "    for item, rating in userRatings.items():\n",
    "        # Цикл по образцам, похожим на данный\n",
    "        for similarity, item in itemMatch[item]:\n",
    "            # Пропускаем, если пользователь уже оценивал данный образец\n",
    "            if item in userRatings: \n",
    "                continue\n",
    "            # Взвешенная суммы оценок, умноженных на коэффициент подобия\n",
    "            scores.setdefault(item, 0)\n",
    "            scores[item] += similarity * rating\n",
    "            # Сумма всех коэффициентов подобия\n",
    "            totalSim.setdefault(item, 0)\n",
    "            totalSim[item] += similarity\n",
    "            if totalSim[item] == 0: \n",
    "                totalSim[item] = 0.0000001 # чтобы избежать деления на ноль\n",
    "    # Делим каждую итоговую оценку на взвешенную сумму, чтобы вычислить среднее\n",
    "    rankings = [(score/totalSim[item], item) for item, score in scores.items()]\n",
    "    # Возвращает список rankings, отсортированный по убыванию\n",
    "    rankings.sort(reverse=True)\n",
    "    return rankings"
   ]
  },
  {
   "cell_type": "code",
   "execution_count": 22,
   "metadata": {},
   "outputs": [
    {
     "data": {
      "text/plain": [
       "[(3.182634730538922, 'The Night Listener'),\n",
       " (2.5983318700614575, 'Just My Luck'),\n",
       " (2.4730878186968837, 'Lady in the Water')]"
      ]
     },
     "execution_count": 22,
     "metadata": {},
     "output_type": "execute_result"
    }
   ],
   "source": [
    "getRecommendedItems(critics,itemsim,'Toby')"
   ]
  },
  {
   "cell_type": "markdown",
   "metadata": {},
   "source": [
    "## Рекомендация на данных MovieLens\n",
    "\n",
    "Источник: http://grouplens.org/datasets/movielens/"
   ]
  },
  {
   "cell_type": "code",
   "execution_count": 23,
   "metadata": {},
   "outputs": [],
   "source": [
    "def loadMovieLens(path='data/movielens'):\n",
    "    # Получить названия фильмов\n",
    "    movies = {}\n",
    "    for line in open(path + '/u.item', errors='ignore'):\n",
    "        idx, title = line.split('|')[:2]\n",
    "        movies[idx] = title\n",
    "    # Загрузить данные\n",
    "    prefs = {}\n",
    "    for line in open(path + '/u.data', errors='ignore'):\n",
    "        user, movie_id, rating, ts = line.split('\\t')\n",
    "        prefs.setdefault(user,{})\n",
    "        prefs[user][movies[movie_id]] = float(rating)\n",
    "    return prefs"
   ]
  },
  {
   "cell_type": "code",
   "execution_count": 24,
   "metadata": {
    "scrolled": true
   },
   "outputs": [
    {
     "data": {
      "text/plain": [
       "{'Naked Gun 33 1/3: The Final Insult (1994)': 4.0,\n",
       " 'Con Air (1997)': 4.0,\n",
       " 'Sabrina (1995)': 4.0,\n",
       " 'Waterworld (1995)': 4.0,\n",
       " 'To Wong Foo, Thanks for Everything! Julie Newmar (1995)': 3.0,\n",
       " 'Clueless (1995)': 4.0,\n",
       " 'Jurassic Park (1993)': 5.0,\n",
       " 'Brady Bunch Movie, The (1995)': 2.0,\n",
       " 'Son in Law (1993)': 4.0,\n",
       " 'Indiana Jones and the Last Crusade (1989)': 5.0,\n",
       " 'Good, The Bad and The Ugly, The (1966)': 5.0,\n",
       " 'Dead Poets Society (1989)': 5.0,\n",
       " 'Dead Man Walking (1995)': 4.0,\n",
       " \"Joe's Apartment (1996)\": 2.0,\n",
       " 'GoldenEye (1995)': 4.0,\n",
       " 'M*A*S*H (1970)': 5.0,\n",
       " 'Something to Talk About (1995)': 2.0,\n",
       " 'Lightning Jack (1994)': 3.0,\n",
       " 'Big Green, The (1995)': 3.0,\n",
       " 'Cowboy Way, The (1994)': 3.0,\n",
       " \"Ulee's Gold (1997)\": 3.0,\n",
       " 'Addams Family Values (1993)': 2.0,\n",
       " '2001: A Space Odyssey (1968)': 5.0,\n",
       " 'Platoon (1986)': 3.0,\n",
       " 'Return of the Pink Panther, The (1974)': 4.0,\n",
       " 'Four Weddings and a Funeral (1994)': 5.0,\n",
       " 'Under Siege (1992)': 4.0,\n",
       " 'Ace Ventura: Pet Detective (1994)': 4.0,\n",
       " 'Die Hard: With a Vengeance (1995)': 4.0,\n",
       " 'Prefontaine (1997)': 5.0,\n",
       " 'Cops and Robbersons (1994)': 3.0,\n",
       " \"Pyromaniac's Love Story, A (1995)\": 3.0,\n",
       " 'Glory (1989)': 4.0,\n",
       " 'This Is Spinal Tap (1984)': 5.0,\n",
       " 'Multiplicity (1996)': 3.0,\n",
       " 'Tommy Boy (1995)': 4.0,\n",
       " 'Cool Hand Luke (1967)': 5.0,\n",
       " \"Monty Python's Life of Brian (1979)\": 4.0,\n",
       " 'Victor/Victoria (1982)': 4.0,\n",
       " 'Treasure of the Sierra Madre, The (1948)': 4.0,\n",
       " 'That Old Feeling (1997)': 4.0,\n",
       " 'Mrs. Doubtfire (1993)': 4.0,\n",
       " 'Professional, The (1994)': 4.0,\n",
       " 'True Lies (1994)': 5.0,\n",
       " 'Air Force One (1997)': 3.0,\n",
       " 'Speechless (1994)': 4.0,\n",
       " 'Sleepless in Seattle (1993)': 5.0,\n",
       " 'Young Frankenstein (1974)': 5.0,\n",
       " 'GoodFellas (1990)': 4.0,\n",
       " 'Fugitive, The (1993)': 5.0,\n",
       " 'In the Line of Fire (1993)': 5.0,\n",
       " 'Reality Bites (1994)': 3.0,\n",
       " 'Shadow, The (1994)': 3.0,\n",
       " 'Speed (1994)': 5.0,\n",
       " 'Batman Returns (1992)': 3.0,\n",
       " 'Conan the Barbarian (1981)': 3.0,\n",
       " 'Terminator 2: Judgment Day (1991)': 5.0,\n",
       " 'Strange Days (1995)': 3.0,\n",
       " 'Star Trek III: The Search for Spock (1984)': 4.0,\n",
       " \"Schindler's List (1993)\": 4.0,\n",
       " 'Sneakers (1992)': 4.0,\n",
       " 'Twelve Monkeys (1995)': 4.0,\n",
       " 'Switchblade Sisters (1975)': 2.0,\n",
       " 'Searching for Bobby Fischer (1993)': 4.0,\n",
       " 'Birdcage, The (1996)': 4.0,\n",
       " \"Singin' in the Rain (1952)\": 4.0,\n",
       " 'Shawshank Redemption, The (1994)': 5.0,\n",
       " 'Santa Clause, The (1994)': 4.0,\n",
       " 'Clear and Present Danger (1994)': 5.0,\n",
       " 'Dances with Wolves (1990)': 5.0,\n",
       " 'Deer Hunter, The (1978)': 3.0,\n",
       " 'Boot, Das (1981)': 4.0,\n",
       " 'Alien (1979)': 4.0,\n",
       " 'Speed 2: Cruise Control (1997)': 3.0,\n",
       " 'Maverick (1994)': 3.0,\n",
       " 'Jack (1996)': 3.0,\n",
       " 'Desperado (1995)': 3.0,\n",
       " 'Nutty Professor, The (1996)': 4.0,\n",
       " 'Batman (1989)': 3.0,\n",
       " 'Dave (1993)': 4.0,\n",
       " 'Crow, The (1994)': 3.0,\n",
       " 'Adventures of Robin Hood, The (1938)': 5.0,\n",
       " 'Blues Brothers, The (1980)': 5.0,\n",
       " 'Adventures of Priscilla, Queen of the Desert, The (1994)': 3.0,\n",
       " 'Raging Bull (1980)': 3.0,\n",
       " 'Batman & Robin (1997)': 4.0,\n",
       " 'Babe (1995)': 5.0,\n",
       " 'Raising Arizona (1987)': 3.0,\n",
       " 'Cliffhanger (1993)': 3.0,\n",
       " 'Top Gun (1986)': 5.0,\n",
       " 'Endless Summer 2, The (1994)': 3.0,\n",
       " 'Barcelona (1994)': 3.0,\n",
       " 'Twister (1996)': 4.0,\n",
       " 'Evil Dead II (1987)': 2.0,\n",
       " 'Sleepers (1996)': 4.0,\n",
       " 'Striptease (1996)': 2.0,\n",
       " 'Get Shorty (1995)': 5.0,\n",
       " 'So I Married an Axe Murderer (1993)': 2.0,\n",
       " 'Mission: Impossible (1996)': 4.0,\n",
       " 'Wizard of Oz, The (1939)': 5.0,\n",
       " 'Baby-Sitters Club, The (1995)': 2.0,\n",
       " 'When Harry Met Sally... (1989)': 5.0,\n",
       " 'Mother (1996)': 2.0,\n",
       " 'Star Trek IV: The Voyage Home (1986)': 5.0,\n",
       " 'Swimming with Sharks (1995)': 3.0,\n",
       " 'Net, The (1995)': 5.0,\n",
       " 'Private Benjamin (1980)': 4.0,\n",
       " 'Fargo (1996)': 5.0,\n",
       " 'Dumb & Dumber (1994)': 4.0,\n",
       " 'Stargate (1994)': 5.0,\n",
       " \"City Slickers II: The Legend of Curly's Gold (1994)\": 3.0,\n",
       " 'Hoop Dreams (1994)': 4.0,\n",
       " 'Young Guns (1988)': 3.0,\n",
       " 'Groundhog Day (1993)': 5.0,\n",
       " 'Bridge on the River Kwai, The (1957)': 5.0,\n",
       " 'Braveheart (1995)': 4.0,\n",
       " 'Vegas Vacation (1997)': 4.0,\n",
       " 'Michael (1996)': 4.0,\n",
       " 'Star Trek: The Wrath of Khan (1982)': 5.0,\n",
       " 'Muppet Treasure Island (1996)': 3.0,\n",
       " 'Nine Months (1995)': 4.0,\n",
       " 'Die Hard (1988)': 4.0,\n",
       " 'Bananas (1971)': 5.0,\n",
       " 'Forget Paris (1995)': 4.0,\n",
       " 'French Kiss (1995)': 5.0,\n",
       " 'Truth About Cats & Dogs, The (1996)': 4.0,\n",
       " 'Empire Strikes Back, The (1980)': 5.0,\n",
       " 'Dunston Checks In (1996)': 1.0,\n",
       " 'Star Trek: The Motion Picture (1979)': 3.0,\n",
       " 'Return of the Jedi (1983)': 5.0,\n",
       " 'Manchurian Candidate, The (1962)': 4.0,\n",
       " 'River Wild, The (1994)': 4.0,\n",
       " 'House Arrest (1996)': 3.0,\n",
       " 'Milk Money (1994)': 4.0,\n",
       " 'Godfather, The (1972)': 4.0,\n",
       " 'Low Down Dirty Shame, A (1994)': 3.0,\n",
       " 'Butch Cassidy and the Sundance Kid (1969)': 5.0,\n",
       " 'Wyatt Earp (1994)': 3.0,\n",
       " 'Star Wars (1977)': 5.0,\n",
       " 'To Kill a Mockingbird (1962)': 4.0,\n",
       " 'Magnificent Seven, The (1954)': 5.0,\n",
       " 'Back to the Future (1985)': 5.0,\n",
       " 'Hot Shots! Part Deux (1993)': 4.0,\n",
       " 'Great White Hype, The (1996)': 3.0,\n",
       " \"Dante's Peak (1997)\": 3.0,\n",
       " 'Matilda (1996)': 3.0,\n",
       " 'Junior (1994)': 4.0,\n",
       " 'Blade Runner (1982)': 4.0,\n",
       " 'Mars Attacks! (1996)': 3.0,\n",
       " 'My Favorite Year (1982)': 3.0,\n",
       " 'Broken Arrow (1996)': 3.0,\n",
       " 'Young Guns II (1990)': 2.0,\n",
       " 'Terminator, The (1984)': 5.0,\n",
       " 'Fish Called Wanda, A (1988)': 5.0,\n",
       " 'Down Periscope (1996)': 4.0,\n",
       " 'Hard Target (1993)': 4.0,\n",
       " 'Ed Wood (1994)': 3.0,\n",
       " 'Demolition Man (1993)': 3.0,\n",
       " 'Mask, The (1994)': 3.0,\n",
       " 'E.T. the Extra-Terrestrial (1982)': 3.0,\n",
       " 'Coneheads (1993)': 4.0,\n",
       " 'Man of the House (1995)': 3.0,\n",
       " 'That Thing You Do! (1996)': 4.0,\n",
       " 'Strictly Ballroom (1992)': 3.0,\n",
       " \"It's a Wonderful Life (1946)\": 5.0,\n",
       " 'Annie Hall (1977)': 4.0,\n",
       " 'Dragonheart (1996)': 4.0,\n",
       " 'Renaissance Man (1994)': 5.0,\n",
       " 'Kingpin (1996)': 4.0,\n",
       " 'In the Army Now (1994)': 4.0,\n",
       " 'Mighty Aphrodite (1995)': 3.0,\n",
       " \"Weekend at Bernie's (1989)\": 3.0,\n",
       " 'Clockwork Orange, A (1971)': 4.0,\n",
       " 'Heat (1995)': 3.0,\n",
       " 'Addicted to Love (1997)': 4.0,\n",
       " 'Program, The (1993)': 3.0,\n",
       " 'Grumpier Old Men (1995)': 4.0,\n",
       " 'Bad Boys (1995)': 4.0,\n",
       " 'American President, The (1995)': 5.0,\n",
       " 'Grease (1978)': 4.0,\n",
       " 'Full Metal Jacket (1987)': 4.0,\n",
       " 'Air Up There, The (1994)': 3.0,\n",
       " 'Home Alone (1990)': 4.0,\n",
       " 'Jimmy Hollywood (1994)': 3.0,\n",
       " 'I.Q. (1994)': 5.0,\n",
       " 'First Wives Club, The (1996)': 2.0,\n",
       " 'Boomerang (1992)': 3.0,\n",
       " 'Heathers (1989)': 3.0,\n",
       " 'While You Were Sleeping (1995)': 5.0,\n",
       " 'Star Trek: First Contact (1996)': 4.0,\n",
       " 'Independence Day (ID4) (1996)': 5.0,\n",
       " 'Lost World: Jurassic Park, The (1997)': 3.0,\n",
       " 'Raiders of the Lost Ark (1981)': 5.0,\n",
       " 'To Die For (1995)': 3.0,\n",
       " 'I Love Trouble (1994)': 3.0,\n",
       " 'Citizen Kane (1941)': 4.0,\n",
       " 'Sleeper (1973)': 4.0,\n",
       " 'Quiet Man, The (1952)': 5.0,\n",
       " 'Sting, The (1973)': 5.0,\n",
       " 'Up in Smoke (1978)': 3.0,\n",
       " 'Executive Decision (1996)': 3.0,\n",
       " 'Jeffrey (1995)': 3.0,\n",
       " 'Inkwell, The (1994)': 3.0,\n",
       " 'Serial Mom (1994)': 1.0,\n",
       " 'Pulp Fiction (1994)': 4.0,\n",
       " 'Supercop (1992)': 3.0,\n",
       " 'Major Payne (1994)': 3.0,\n",
       " 'Big Squeeze, The (1996)': 2.0,\n",
       " 'Days of Thunder (1990)': 5.0,\n",
       " 'Apocalypse Now (1979)': 4.0}"
      ]
     },
     "execution_count": 24,
     "metadata": {},
     "output_type": "execute_result"
    }
   ],
   "source": [
    "prefs = loadMovieLens()\n",
    "prefs['87'] # user_id"
   ]
  },
  {
   "cell_type": "code",
   "execution_count": 25,
   "metadata": {},
   "outputs": [
    {
     "name": "stderr",
     "output_type": "stream",
     "text": [
      "100%|██████████| 1664/1664 [00:31<00:00, 52.37it/s] \n"
     ]
    }
   ],
   "source": [
    "itemsim = calculateSimilarItems(prefs, n=50)"
   ]
  },
  {
   "cell_type": "code",
   "execution_count": 26,
   "metadata": {},
   "outputs": [
    {
     "data": {
      "text/plain": [
       "[(5.0, \"What's Eating Gilbert Grape (1993)\"),\n",
       " (5.0, 'Vertigo (1958)'),\n",
       " (5.0, 'Usual Suspects, The (1995)'),\n",
       " (5.0, 'Toy Story (1995)'),\n",
       " (5.0, 'Titanic (1997)'),\n",
       " (5.0, 'Sword in the Stone, The (1963)'),\n",
       " (5.0, 'Stand by Me (1986)'),\n",
       " (5.0, 'Sling Blade (1996)'),\n",
       " (5.0, 'Silence of the Lambs, The (1991)'),\n",
       " (5.0, 'Shining, The (1980)'),\n",
       " (5.0, 'Shine (1996)'),\n",
       " (5.0, 'Sense and Sensibility (1995)'),\n",
       " (5.0, 'Scream (1996)'),\n",
       " (5.0, 'Rumble in the Bronx (1995)'),\n",
       " (5.0, 'Rock, The (1996)'),\n",
       " (5.0, 'Robin Hood: Prince of Thieves (1991)'),\n",
       " (5.0, 'Reservoir Dogs (1992)'),\n",
       " (5.0, 'Police Story 4: Project S (Chao ji ji hua) (1993)'),\n",
       " (5.0, 'House of the Spirits, The (1993)'),\n",
       " (5.0, 'Fresh (1994)'),\n",
       " (5.0, 'Day the Sun Turned Cold, The (Tianguo niezi) (1994)'),\n",
       " (5.0, 'Before the Rain (Pred dozhdot) (1994)'),\n",
       " (5.0, 'Assignment, The (1997)'),\n",
       " (5.0, '1-900 (1994)'),\n",
       " (4.888888888888889, \"Ed's Next Move (1996)\"),\n",
       " (4.833333333333333, 'Anna (1996)'),\n",
       " (4.8, 'Dark City (1998)'),\n",
       " (4.777777777777778,\n",
       "  'Flower of My Secret, The (Flor de mi secreto, La) (1995)'),\n",
       " (4.75, 'Broken English (1996)'),\n",
       " (4.75, ' kldum klaka (Cold Fever) (1994)')]"
      ]
     },
     "execution_count": 26,
     "metadata": {},
     "output_type": "execute_result"
    }
   ],
   "source": [
    "getRecommendedItems(prefs, itemsim, '87')[0:30]"
   ]
  },
  {
   "cell_type": "markdown",
   "metadata": {},
   "source": [
    "# Задание 1. Сравнение методов коллаборативной фильтрации по сходству пользователей и по сходству объектов\n",
    "\n",
    "\n",
    "1. Требуется реализовать вычисление ошибки **MAE** и **RMSE** на тестовых данных [MovieLens](http://grouplens.org/datasets/movielens/).  \n",
    "В качестве данных обучения можно использовать файлы с расширением base, а тестирование качества провести на файле test: пары файлов u1.base и u1.test, ..., u5.base и u5.test. Каждая пара -- это разбиение данных на обучающие (80%) и тестовые (20%) данные для всех пользователей $u$.\n",
    "2. Для каждого метода (user-based и item-based) постройте графики зависимости MAE и RMSE от числа соседей (диапазон от 1 до 100 с разумным шагом).\n",
    "3. Если качество предсказаний слишком низкое (MAE > 2.0), попробуйте формулы 2.6 и 2.7 из обзора http://files.grouplens.org/papers/FnT%20CF%20Recsys%20Survey.pdf.\n",
    "Можно использовать альтернативные формулы для исходной модели $r_{u,i} = k\\cdot \\sum\\limits_{u^\\prime \\in U}\\operatorname{sim}(u,u^\\prime) \\cdot r_{u^\\prime, i} \\mbox{ (случай user-based модели):}$\n",
    "$$r_{u,i} = \\frac{1}{N}\\sum\\limits_{u^\\prime \\in U}r_{u^\\prime, i}$$\n",
    "$$r_{u,i} = \\bar{r_u} +  k\\cdot \\sum\\limits_{u^\\prime \\in U} sim(u,u^\\prime)(r_{u^\\prime, i}-\\bar{r_{u^\\prime}} ) \\mbox{, где } k =\\frac{1}{\\sum_{u^\\prime \\in U}|\\operatorname{sim}(u,u^\\prime)|}$$\n",
    "4. Сравните подходы на основе полученных результатов по аналогии с пунктами 1 и 2. \n",
    "5. Как изменяется величина MAE (RMSE) от числа выдаваемых рекомендаций (top-n): $n \\in \\{1,3,5,10,15,20,30,40,50,100\\}$? \n",
    "6. Как Вы считаете, какие фильмы чаще рекомендуются - популярные с высокими оценками или редкие (те, которые редко оцениваются) с высокими оценками? Почему это происходит?\n",
    "7. Что делать, если соседей (то есть, похожих на целевого пользователя или конкретный товар) мало? Нужно (и можно) ли как-то учитывать достоверность таких рекомендаций? \n",
    "8. *Необязательное задание*. Насколько различны списки из top-n рекомендаций. Попробуйте улучшить результаты подбором $\\beta$ для минимизации MAE (RMSE) в гибридных рекомендациях в зависимости от числа соседей:\n",
    "$$\\beta\\cdot r^{user-based}_{ui} + (1-\\beta)\\cdot r^{item-based}_{ui}, \\mbox{ где } 0 \\leq \\beta \\leq 1.$$ \n",
    "\n"
   ]
  },
  {
   "cell_type": "code",
   "execution_count": null,
   "metadata": {
    "collapsed": true
   },
   "outputs": [],
   "source": []
  }
 ],
 "metadata": {
  "kernelspec": {
   "display_name": "Python 3",
   "language": "python",
   "name": "python3"
  },
  "language_info": {
   "codemirror_mode": {
    "name": "ipython",
    "version": 3
   },
   "file_extension": ".py",
   "mimetype": "text/x-python",
   "name": "python",
   "nbconvert_exporter": "python",
   "pygments_lexer": "ipython3",
   "version": "3.8.3"
  },
  "name": "lesson11_recsys.ipynb"
 },
 "nbformat": 4,
 "nbformat_minor": 1
}
